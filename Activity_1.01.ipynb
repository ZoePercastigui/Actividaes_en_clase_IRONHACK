{
  "nbformat": 4,
  "nbformat_minor": 0,
  "metadata": {
    "colab": {
      "provenance": []
    },
    "kernelspec": {
      "name": "python3",
      "display_name": "Python 3"
    },
    "language_info": {
      "name": "python"
    }
  },
  "cells": [
    {
      "cell_type": "markdown",
      "source": [
        "# **1.01 Actividad 1**\n",
        "Intenta responder a estas preguntas:\n",
        "\n",
        "1. ¿Cuál es la diferencia entre lista y tupla?\n",
        "2. ¿Cuál es la diferencia entre bucle for y bucle while?\n",
        "3. ¿Qué son las declaraciones condicionales en Python?\n",
        "---"
      ],
      "metadata": {
        "id": "DWgBdm6s-62w"
      }
    },
    {
      "cell_type": "markdown",
      "source": [
        "### **1. ¿Cuál es la diferencia entre lista y tupla?**"
      ],
      "metadata": {
        "id": "2s1uFU_wBSYN"
      }
    },
    {
      "cell_type": "markdown",
      "source": [
        "####  R = En Python, tanto las listas como las tuplas son tipos de datos secuenciales que permiten almacenar colecciones de elementos. Sin embargo, existen algunas diferencias clave entre ellas:\n",
        "\n",
        "Mutabilidad: Las listas son mutables, lo que significa que sus elementos pueden ser modificados, agregados o eliminados después de que la lista ha sido creada. En contraste, las tuplas son inmutables, lo que significa que sus elementos no pueden ser modificados después de que la tupla ha sido creada.\n",
        "\n",
        "Sintaxis: Las listas se crean utilizando corchetes [ ] y los elementos están separados por comas. Las tuplas, por otro lado, se crean utilizando paréntesis ( ) y los elementos también están separados por comas.\n",
        "\n",
        "Rendimiento: En general, las tuplas son más rápidas que las listas, ya que su inmutabilidad les permite ser más eficientes en términos de memoria y procesamiento.\n",
        "\n",
        "Uso: Las listas se utilizan comúnmente cuando se necesitan colecciones mutables de elementos, mientras que las tuplas se usan con mayor frecuencia cuando se necesitan colecciones inmutables de elementos, como para representar coordenadas o datos que no deberían modificarse.\n",
        "\n",
        "En resumen, las listas y las tuplas son tipos de datos secuenciales similares pero diferentes en términos de mutabilidad, sintaxis, rendimiento y uso."
      ],
      "metadata": {
        "id": "BWtuV5PaBkHK"
      }
    },
    {
      "cell_type": "markdown",
      "source": [
        "### **2. ¿Cuál es la diferencia entre bucle for y bucle while?**"
      ],
      "metadata": {
        "id": "AvcYRiMVBCMR"
      }
    },
    {
      "cell_type": "markdown",
      "source": [
        "#### R = Tanto el bucle for como el bucle while son estructuras de control de flujo en Python que se utilizan para repetir un conjunto de instrucciones varias veces. Sin embargo, hay algunas diferencias clave entre ellos:\n",
        "\n",
        "Sintaxis: En un bucle for, la sintaxis es la siguiente: <font color=\"ORANGE\">**for variable in secuencia:**</font>, mientras que en un bucle while, la sintaxis es la siguiente: <font color=\"ORANGE\">**while condición:**</font>.\n",
        "\n",
        "Control de flujo: En un bucle for, el control de flujo se basa en la secuencia que se está iterando, lo que significa que el número de iteraciones está determinado por la longitud de la secuencia. En un bucle while, el control de flujo se basa en una condición que debe ser verdadera para continuar con la iteración. Esto significa que el número de iteraciones en un bucle while puede variar.\n",
        "\n",
        "Conveniencia: En general, los bucles for son más convenientes cuando se tiene una secuencia predefinida de elementos para iterar, mientras que los bucles while son más convenientes cuando se necesita una iteración basada en una condición dinámica que puede cambiar durante la ejecución del programa.\n",
        "\n",
        "Riesgo de bucles infinitos: Los bucles while pueden ser más propensos a causar bucles infinitos (es decir, bucles que nunca terminan) si la condición nunca se cumple o si no se actualiza correctamente dentro del cuerpo del bucle. Los bucles for, por otro lado, no tienen este riesgo, ya que el número de iteraciones está determinado por la secuencia y no por una condición.\n",
        "\n",
        "En resumen, ambos bucles se utilizan para repetir un conjunto de instrucciones varias veces, pero tienen diferencias significativas en términos de sintaxis, control de flujo, conveniencia y riesgo de bucles infinitos."
      ],
      "metadata": {
        "id": "DqRDtq59BCAo"
      }
    },
    {
      "cell_type": "code",
      "source": [
        "x = []\n",
        "for i in range (20):\n",
        "  x.append(i)"
      ],
      "metadata": {
        "id": "C0sF6hZfFcin"
      },
      "execution_count": null,
      "outputs": []
    },
    {
      "cell_type": "code",
      "source": [
        "x"
      ],
      "metadata": {
        "id": "7W7PV6RwFxrU"
      },
      "execution_count": null,
      "outputs": []
    },
    {
      "cell_type": "code",
      "source": [
        "#ejemplo de bucle while\n",
        "# Imprime los números del 1 al 10 usando un bucle while\n",
        "i = 1\n",
        "while i <= 10:\n",
        "    print(i)\n",
        "    i += 1\n"
      ],
      "metadata": {
        "id": "rzCWQUOQGFXU"
      },
      "execution_count": null,
      "outputs": []
    },
    {
      "cell_type": "markdown",
      "source": [
        "### **3. ¿Qué son las declaraciones condicionales en Python?**"
      ],
      "metadata": {
        "id": "Viu2WhG5BBxm"
      }
    },
    {
      "cell_type": "markdown",
      "source": [
        "#### R = Las declaraciones condicionales en Python son estructuras de control de flujo que permiten a los programas tomar decisiones basadas en ciertas condiciones. En Python, las declaraciones condicionales se implementan utilizando la palabra clave <font color=\"ORANGE\">**if**.\n",
        "\n",
        "La sintaxis básica de una declaración condicional en Python es la siguiente:"
      ],
      "metadata": {
        "id": "mIBquQr-IKNo"
      }
    },
    {
      "cell_type": "code",
      "source": [
        "if condición:\n",
        "    # Código a ejecutar si la condición es verdadera\n"
      ],
      "metadata": {
        "id": "DcxTovfPI4m5"
      },
      "execution_count": null,
      "outputs": []
    },
    {
      "cell_type": "markdown",
      "source": [
        "#### En este caso, condición es una expresión que se evalúa como Verdadera o Falsa (True o False en inglés). Si la condición es Verdadera, se ejecuta el código que está indentado debajo de la declaración <font color=\"ORANGE\">if</font>. Si la condición es Falsa, el código que está debajo del <font color=\"ORANGE\">if</font> no se ejecutará y el programa continuará con la siguiente línea de código.\n",
        "\n",
        "Además del if, Python también admite otras dos palabras clave que se utilizan en declaraciones condicionales: <font color=\"red\">elif</font> y <font color=\"red\">else</font>. La palabra clave elif se utiliza para agregar condiciones adicionales al bloque condicional, y la palabra clave else se utiliza para ejecutar un bloque de código cuando todas las condiciones anteriores son falsas.\n",
        "\n",
        "Aquí hay un ejemplo de una declaración condicional más compleja que utiliza el <font color=\"red\">elif</font> y <font color=\"red\">else</font>:"
      ],
      "metadata": {
        "id": "9EU1zajTI3fn"
      }
    },
    {
      "cell_type": "code",
      "source": [
        "edad = 18\n",
        "\n",
        "if edad < 18:\n",
        "    print(\"Eres menor de edad\")\n",
        "elif edad == 18:\n",
        "    print(\"Acabas de alcanzar la mayoría de edad\")\n",
        "else:\n",
        "    print(\"Eres mayor de edad\")\n"
      ],
      "metadata": {
        "colab": {
          "base_uri": "https://localhost:8080/"
        },
        "id": "DeVK4qPsKZbS",
        "outputId": "48cf76d0-100e-43b7-a8fb-cb4b8f883706"
      },
      "execution_count": null,
      "outputs": [
        {
          "output_type": "stream",
          "name": "stdout",
          "text": [
            "Acabas de alcanzar la mayoría de edad\n"
          ]
        }
      ]
    }
  ]
}